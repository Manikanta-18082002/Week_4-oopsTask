{
 "cells": [
  {
   "cell_type": "markdown",
   "id": "d7ccf0a3",
   "metadata": {},
   "source": [
    "Q1, Create a vehicle class with an init method having instance variables as name_of_vehicle, max_speed and average_of_vehicle."
   ]
  },
  {
   "cell_type": "code",
   "execution_count": 8,
   "id": "15fa386e",
   "metadata": {},
   "outputs": [
    {
     "name": "stdout",
     "output_type": "stream",
     "text": [
      "BMW\n",
      "200\n",
      "55\n"
     ]
    },
    {
     "data": {
      "text/plain": [
       "('BMW', 200, 55)"
      ]
     },
     "execution_count": 8,
     "metadata": {},
     "output_type": "execute_result"
    }
   ],
   "source": [
    "class vechile:\n",
    "    \n",
    "    def __init__(self, name_of_vehicle, max_speed, average_of_vehicle ):\n",
    "        self.Vechile_name =  name_of_vehicle\n",
    "        self.Speed = max_speed\n",
    "        self.Avg_Vechile = average_of_vehicle\n",
    "        \n",
    "    def display(self):\n",
    "        return self.Vechile_name, self.Speed, self.Avg_Vechile\n",
    "    \n",
    "obj = vechile(\"BMW\", 200, 55)\n",
    "print(obj.Vechile_name)\n",
    "print(obj.Speed)\n",
    "print(obj.Avg_Vechile) \n",
    "\n",
    "obj.display() "
   ]
  },
  {
   "cell_type": "code",
   "execution_count": null,
   "id": "f21ef9a5",
   "metadata": {},
   "outputs": [],
   "source": []
  },
  {
   "cell_type": "markdown",
   "id": "d6ab5915",
   "metadata": {},
   "source": [
    "Q2. Create a child class car from the vehicle class created in Que 1, which will inherit the vehicle class. Create a method named seating_capacity which takes capacity as an argument and returns the name of the vehicle and its seating capacity."
   ]
  },
  {
   "cell_type": "code",
   "execution_count": 26,
   "id": "8b56cd38",
   "metadata": {},
   "outputs": [
    {
     "name": "stdout",
     "output_type": "stream",
     "text": [
      "Name of the vechile is:  AUDI\n",
      "Seating Capacity:  6\n"
     ]
    }
   ],
   "source": [
    "class vechile:\n",
    "    \n",
    "    def __init__(self, name_of_vehicle, max_speed, average_of_vehicle ):\n",
    "        self.Vechile_name =  name_of_vehicle\n",
    "        self.Speed = max_speed\n",
    "        self.Avg_Vechile = average_of_vehicle\n",
    "        \n",
    "    def display(self):\n",
    "        return self.Vechile_name, self.Speed, self.Avg_Vechile\n",
    "    \n",
    "class car(vechile):\n",
    "    def seating_capacity(self, capacity):\n",
    "        self.capacity  = capacity\n",
    "    \n",
    "    def displaying_capacity(self):\n",
    "        return self.capacity\n",
    "        \n",
    "obj2 = car(\"AUDI\", 230, 40)\n",
    "print(\"Name of the vechile is: \", obj2.Vechile_name)\n",
    "obj2.seating_capacity(6)\n",
    "print(\"Seating Capacity: \", obj2.displaying_capacity())\n",
    "        "
   ]
  },
  {
   "cell_type": "code",
   "execution_count": null,
   "id": "331af26a",
   "metadata": {},
   "outputs": [],
   "source": []
  },
  {
   "cell_type": "markdown",
   "id": "87f39b79",
   "metadata": {},
   "source": [
    "Q3. What is multiple inheritance? Write a python code to demonstrate multiple inheritance."
   ]
  },
  {
   "cell_type": "code",
   "execution_count": 29,
   "id": "4f622b98",
   "metadata": {},
   "outputs": [
    {
     "name": "stdout",
     "output_type": "stream",
     "text": [
      "Multiple inheritance allows a subclass to inherit from multiple superclasses, creating a new class that combines the\n",
      "features and functionality of all the parent classes\n",
      "\n",
      "Multiple Inheritance: \n",
      "\n",
      "In Parent_1 Class\n",
      "In Parent_2 Class\n",
      "In Child Class inherits from both Parents\n"
     ]
    }
   ],
   "source": [
    "print(\"Multiple inheritance allows a subclass to inherit from multiple superclasses, creating a new class that combines the\\nfeatures and functionality of all the parent classes\")\n",
    "print()\n",
    "#Multiple Inheritance\n",
    "\n",
    "class Parent1: #Base_1 Class\n",
    "    def display1(self):\n",
    "        print(\"In Parent_1 Class\")\n",
    "        \n",
    "\n",
    "class Parent2: #Base_2 Class\n",
    "    def display2(self):\n",
    "        print(\"In Parent_2 Class\")\n",
    "        \n",
    "\n",
    "class child(Parent1, Parent2): #Child Class\n",
    "    def display3(self):\n",
    "        print(\"In Child Class inherits from both Parents\")\n",
    "        \n",
    "\n",
    "print(\"Multiple Inheritance: \")\n",
    "print()\n",
    "obj = child()\n",
    "\n",
    "obj.display1()\n",
    "obj.display2()\n",
    "obj.display3()"
   ]
  },
  {
   "cell_type": "code",
   "execution_count": null,
   "id": "b61dbac9",
   "metadata": {},
   "outputs": [],
   "source": []
  },
  {
   "cell_type": "markdown",
   "id": "c2e8f88d",
   "metadata": {},
   "source": [
    "Q4. What are getter and setter in python? Create a class and create a getter and a setter method in this\n",
    "class."
   ]
  },
  {
   "cell_type": "code",
   "execution_count": 33,
   "id": "73eec2ab",
   "metadata": {},
   "outputs": [
    {
     "name": "stdout",
     "output_type": "stream",
     "text": [
      "Getter and Setter methods are used to control access to the attributes of a class. They provide an interface for\n",
      "getting and setting the values of private or protected attributes, which helps in encapsulation and data validation.\n",
      "\n",
      "Name: Mani\n",
      "Age: 21\n",
      "Age cannot be negative.\n",
      "Name: Kanta\n",
      "Age: 21\n"
     ]
    }
   ],
   "source": [
    "print(\"Getter and Setter methods are used to control access to the attributes of a class. They provide an interface for\\ngetting and setting the values of private or protected attributes, which helps in encapsulation and data validation.\")\n",
    "\n",
    "class Student:\n",
    "    def __init__(self, name, age):\n",
    "        self.__name = name  # Private attribute\n",
    "        self.__age = age    # Private attribute\n",
    "\n",
    "    @property\n",
    "    def name(self):\n",
    "        return self.__name\n",
    "\n",
    "    @property\n",
    "    def age(self):\n",
    "        return self.__age\n",
    "\n",
    "    @name.setter\n",
    "    def name(self, name):\n",
    "        if len(name) >= 2:\n",
    "            self.__name = name\n",
    "        else:\n",
    "            print(\"Name must have at least 2 characters.\")\n",
    "\n",
    "    @age.setter\n",
    "    def age(self, age):\n",
    "        if age >= 0:\n",
    "            self.__age = age\n",
    "        else:\n",
    "            print(\"Age cannot be negative.\")\n",
    "\n",
    "print()\n",
    "# Creating an instance of the Student class\n",
    "student1 = Student(\"Mani\", 21)\n",
    "\n",
    "# Using getter methods to access attributes\n",
    "print(\"Name:\", student1.name) \n",
    "print(\"Age:\", student1.age)   \n",
    "\n",
    "# Using setter methods to update attributes\n",
    "student1.name = \"Kanta\"  # Valid name change\n",
    "student1.age = -4     # Invalid age change\n",
    "\n",
    "# Checking the updated attributes\n",
    "print(\"Name:\", student1.name)  \n",
    "print(\"Age:\", student1.age)    \n",
    "\n"
   ]
  },
  {
   "cell_type": "code",
   "execution_count": null,
   "id": "86390124",
   "metadata": {},
   "outputs": [],
   "source": []
  },
  {
   "cell_type": "markdown",
   "id": "2f4b0973",
   "metadata": {},
   "source": [
    "Q5.What is method overriding in python? Write a python code to demonstrate method overriding."
   ]
  },
  {
   "cell_type": "code",
   "execution_count": 35,
   "id": "bf62ec7c",
   "metadata": {
    "scrolled": true
   },
   "outputs": [
    {
     "name": "stdout",
     "output_type": "stream",
     "text": [
      "Method overriding: Where a subclass provides a specific implementation of a method that is already defined in its superclass. \n",
      "\n",
      "Animal speaks\n",
      "Dog barks\n",
      "Cat meows\n"
     ]
    }
   ],
   "source": [
    "print(\"Method overriding: Where a subclass provides a specific implementation of a method that is already defined in its superclass. \")\n",
    "\n",
    "class Animal:\n",
    "    def speak(self):\n",
    "        print(\"Animal speaks\")\n",
    "\n",
    "class Dog(Animal):\n",
    "    def speak(self):\n",
    "        print(\"Dog barks\")\n",
    "\n",
    "class Cat(Animal):\n",
    "    def speak(self):\n",
    "        print(\"Cat meows\")\n",
    "        \n",
    "print()\n",
    "\n",
    "# Creating instances of the subclasses\n",
    "animal = Animal()\n",
    "dog = Dog()\n",
    "cat = Cat()\n",
    "\n",
    "# Calling the speak method on instances\n",
    "animal.speak()  \n",
    "dog.speak()     \n",
    "cat.speak()     \n"
   ]
  },
  {
   "cell_type": "code",
   "execution_count": null,
   "id": "f6f7bf7c",
   "metadata": {},
   "outputs": [],
   "source": []
  }
 ],
 "metadata": {
  "kernelspec": {
   "display_name": "Python 3 (ipykernel)",
   "language": "python",
   "name": "python3"
  },
  "language_info": {
   "codemirror_mode": {
    "name": "ipython",
    "version": 3
   },
   "file_extension": ".py",
   "mimetype": "text/x-python",
   "name": "python",
   "nbconvert_exporter": "python",
   "pygments_lexer": "ipython3",
   "version": "3.11.4"
  }
 },
 "nbformat": 4,
 "nbformat_minor": 5
}
